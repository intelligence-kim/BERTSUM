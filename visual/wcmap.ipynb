{
 "cells": [
  {
   "cell_type": "markdown",
   "id": "7e046f1d",
   "metadata": {},
   "source": [
    "# Word Cloud"
   ]
  },
  {
   "cell_type": "code",
   "execution_count": 10,
   "id": "3cdfca23",
   "metadata": {},
   "outputs": [],
   "source": [
    "import sys\n",
    "from konlpy.tag import Okt\n",
    "from collections import Counter\n",
    "from wordcloud import WordCloud\n",
    "import numpy as np\n",
    "from PIL import Image\n",
    "import matplotlib.pyplot as plt\n",
    "\n",
    "def get_noun(news):\n",
    "\n",
    "    okt = Okt()\n",
    "    noun = okt.nouns(news)\n",
    "    for i,v in enumerate(noun):\n",
    "        if len(v) < 2:\n",
    "            noun.pop(i)\n",
    "\n",
    "    count = Counter(noun)\n",
    "    noun_list = count.most_common(100)\n",
    "\n",
    "    return noun_list\n",
    "\n",
    "\n",
    "def visualize(noun_list,category):\n",
    "    icon = Image.open('./shape_1.png').convert(\"RGBA\")    # 마스크가 될 이미지 불러오기 \n",
    "    plt.imshow(icon)\n",
    "\n",
    "    mask = Image.new(\"RGB\", icon.size, (255,255,255))\n",
    "    mask.paste(icon,icon)\n",
    "    mask = np.array(mask)\n",
    "    \n",
    "    \n",
    "    wc = WordCloud(font_path='/usr/share/fonts/nanum/NanumGothicExtraBold.ttf',\n",
    "                    background_color=\"white\",\n",
    "                    width=1000,\n",
    "                    height=1000,\n",
    "                    max_words=100,\n",
    "                    max_font_size=300,\n",
    "                    mask=mask)\n",
    "    \n",
    "    cloud = wc.generate_from_frequencies(dict(noun_list))\n",
    "    wc.to_file(f'{category}_wordcloud.png')\n",
    "    plt.figure(figsize=(10,10))                                          \n",
    "    plt.axis('off')                                                       \n",
    "    plt.imshow(cloud,interpolation=\"bilinear\")\n",
    "\n",
    "\n",
    "def StopWords(text):\n",
    "    file = open(\"koreanStopwords.txt\", \"r\")\n",
    "    stopword={'기본값'}\n",
    "    while True:\n",
    "        line = file.readline()\n",
    "        if not line:\n",
    "            break\n",
    "        stopword.add(line.strip())\n",
    "    file.close()\n",
    "    \n",
    "    i=0\n",
    "    while i < len(text):\n",
    "        if text[i][0] in stopword:\n",
    "            print(text[i])\n",
    "            text.pop(i)\n",
    "            continue\n",
    "        else:\n",
    "            i+=1\n",
    "    \n",
    "    return  text\n",
    "    "
   ]
  },
  {
   "cell_type": "code",
   "execution_count": null,
   "id": "a2728f44",
   "metadata": {},
   "outputs": [],
   "source": []
  }
 ],
 "metadata": {
  "kernelspec": {
   "display_name": "Python 3 (ipykernel)",
   "language": "python",
   "name": "python3"
  },
  "language_info": {
   "codemirror_mode": {
    "name": "ipython",
    "version": 3
   },
   "file_extension": ".py",
   "mimetype": "text/x-python",
   "name": "python",
   "nbconvert_exporter": "python",
   "pygments_lexer": "ipython3",
   "version": "3.9.7"
  }
 },
 "nbformat": 4,
 "nbformat_minor": 5
}
