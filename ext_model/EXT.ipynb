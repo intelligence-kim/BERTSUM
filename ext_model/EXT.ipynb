{
 "cells": [
  {
   "cell_type": "markdown",
   "id": "048da71a",
   "metadata": {},
   "source": [
    "# Extractive Model"
   ]
  },
  {
   "cell_type": "code",
   "execution_count": 1,
   "id": "9926cd30",
   "metadata": {},
   "outputs": [],
   "source": [
    "class EXTnews:\n",
    "    def find_max(text):\n",
    "        text_index = []\n",
    "        text_value = []\n",
    "        for i in range(10):\n",
    "            t1,t2 = output_index(test_news(text_split(text))),text_split(text)\n",
    "            text_index.append(t1[0])\n",
    "            text_value.append(sum(t1[0]))\n",
    "        return text_index[text_value.index(min(text_value))]\n",
    "\n",
    "    def test_news(text):\n",
    "        answer=[]\n",
    "        for i,text_ in enumerate(text):\n",
    "            sentence = [vocab.piece_to_id(\"[CLS]\")] + [vocab.piece_to_id(p) for p in text_] + [vocab.piece_to_id(\"[SEP]\")]\n",
    "            segments=[i%2] * len(sentence)\n",
    "            sentence = torch.tensor(sentence).expand(1,-1).to(config.device)\n",
    "            segments = torch.tensor(segments).expand(1,-1).to(config.device)\n",
    "            answer.append(test_model(sentence, segments)[0][0][1])\n",
    "        return answer\n",
    "    def text_split(text):\n",
    "        trim_text=[]\n",
    "        for s in text.split('.'):\n",
    "            cut_text = s.replace('\\n','')+'.'\n",
    "            if cut_text != '.':\n",
    "                trim_text.append(cut_text)\n",
    "        return trim_text\n",
    "\n",
    "    def output_index(value_list):\n",
    "        answer=[]\n",
    "        ext_value = 0\n",
    "        if len(value_list)>15:\n",
    "            count = len(value_list)//5\n",
    "        else:\n",
    "            count = 3\n",
    "        for i in range(3):\n",
    "            max_value = value_list.index(max(value_list))\n",
    "            ext_value += max(value_list)\n",
    "            answer.append(max_value)\n",
    "            value_list.pop(max_value)\n",
    "            value_list.insert(max_value,float('-inf'))\n",
    "        return [answer,ext_value]\n",
    "\n",
    "    def concat_text(index_list, sentence):\n",
    "        index_list.sort()\n",
    "        text = ''\n",
    "        for t in index_list:\n",
    "            text += sentence[t]\n",
    "        return text\n",
    "\n",
    "    def ROUGUE(index_list, sentence):\n",
    "        index_list.sort()\n",
    "        text = []\n",
    "        for t in index_list:\n",
    "            text.append(sentence[t])\n",
    "        return text\n",
    "\n",
    "    def EXTSentence(sentence):\n",
    "        return concat_text(find_max(sentence),text_split(sentence))\n",
    "    #     return concat_text(output_index(test_news(text_split(a)))[0],text_split(a))\n"
   ]
  },
  {
   "cell_type": "code",
   "execution_count": null,
   "id": "2c1d1123",
   "metadata": {},
   "outputs": [],
   "source": []
  }
 ],
 "metadata": {
  "kernelspec": {
   "display_name": "Python 3 (ipykernel)",
   "language": "python",
   "name": "python3"
  },
  "language_info": {
   "codemirror_mode": {
    "name": "ipython",
    "version": 3
   },
   "file_extension": ".py",
   "mimetype": "text/x-python",
   "name": "python",
   "nbconvert_exporter": "python",
   "pygments_lexer": "ipython3",
   "version": "3.9.7"
  }
 },
 "nbformat": 4,
 "nbformat_minor": 5
}
