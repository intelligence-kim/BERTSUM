{
 "cells": [
  {
   "cell_type": "code",
   "execution_count": 2,
   "id": "cce6908f",
   "metadata": {},
   "outputs": [],
   "source": [
    "import os\n",
    "import json\n",
    "import pandas as pd\n",
    "import sentencepiece as spm"
   ]
  },
  {
   "cell_type": "code",
   "execution_count": 3,
   "id": "43cda10c",
   "metadata": {},
   "outputs": [
    {
     "data": {
      "text/plain": [
       "True"
      ]
     },
     "execution_count": 3,
     "metadata": {},
     "output_type": "execute_result"
    }
   ],
   "source": [
    "vocab_file = \"/home/studio/바탕화면/web-crawler/kowiki/vocab_32000/kowiki.model\"\n",
    "vocab = spm.SentencePieceProcessor()\n",
    "vocab.load(vocab_file)"
   ]
  },
  {
   "cell_type": "code",
   "execution_count": 4,
   "id": "6383b1ec",
   "metadata": {},
   "outputs": [],
   "source": [
    "def prepare_train(vocab, infile, outfile):\n",
    "    df = pd.read_csv(infile, sep=\"\\t\", engine=\"python\")\n",
    "    with open(outfile, \"w\") as f:\n",
    "        for index, row in df.iterrows():\n",
    "            document = row[\"document\"]\n",
    "            if type(document) != str:\n",
    "                continue\n",
    "            instance = { \"id\": row[\"id\"], \"doc\": vocab.encode_as_pieces(document), \"label\": row[\"label\"] }\n",
    "            f.write(json.dumps(instance))\n",
    "            f.write(\"\\n\")"
   ]
  },
  {
   "cell_type": "code",
   "execution_count": 6,
   "id": "9359b1fb",
   "metadata": {},
   "outputs": [],
   "source": [
    "prepare_train(vocab, \"ratings_train.txt\", \"ratings_train.json\")\n",
    "prepare_train(vocab, \"ratings_test.txt\", \"ratings_test.json\")"
   ]
  },
  {
   "cell_type": "code",
   "execution_count": null,
   "id": "b6b58805",
   "metadata": {},
   "outputs": [],
   "source": []
  }
 ],
 "metadata": {
  "kernelspec": {
   "display_name": "Python 3 (ipykernel)",
   "language": "python",
   "name": "python3"
  },
  "language_info": {
   "codemirror_mode": {
    "name": "ipython",
    "version": 3
   },
   "file_extension": ".py",
   "mimetype": "text/x-python",
   "name": "python",
   "nbconvert_exporter": "python",
   "pygments_lexer": "ipython3",
   "version": "3.9.7"
  }
 },
 "nbformat": 4,
 "nbformat_minor": 5
}
